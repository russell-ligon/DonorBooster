{
  "nbformat": 4,
  "nbformat_minor": 0,
  "metadata": {
    "colab": {
      "name": "Untitled0.ipynb",
      "provenance": [],
      "authorship_tag": "ABX9TyPCZ7vevQlHcLsP6XAxvoCb",
      "include_colab_link": true
    },
    "kernelspec": {
      "name": "python3",
      "display_name": "Python 3"
    }
  },
  "cells": [
    {
      "cell_type": "markdown",
      "metadata": {
        "id": "view-in-github",
        "colab_type": "text"
      },
      "source": [
        "<a href=\"https://colab.research.google.com/github/russell-ligon/DonorBooster/blob/master/ColabProcessor.ipynb\" target=\"_parent\"><img src=\"https://colab.research.google.com/assets/colab-badge.svg\" alt=\"Open In Colab\"/></a>"
      ]
    },
    {
      "cell_type": "code",
      "metadata": {
        "id": "erli28qFByfL",
        "colab_type": "code",
        "colab": {
          "base_uri": "https://localhost:8080/",
          "height": 33
        },
        "outputId": "2d71f83e-edfb-4363-e2bc-3ef1ef775ddb"
      },
      "source": [
        "#UPON FIRST INSTANTIATION ON GOOGLE COLAB, MAKE SURE YOU'VE GOT THESE PACKAGES INSTALLED BY UNCOMMENTING AND RUNNING\n",
        "\n",
        "#!pip install -q ktrain\n",
        "#!pip install -q scikit-learn\n",
        "#!pip install -q pyLDAvis\n",
        "#!pip install -q vaderSentiment"
      ],
      "execution_count": 15,
      "outputs": [
        {
          "output_type": "stream",
          "text": [
            "\u001b[?25l\r\u001b[K     |██▋                             | 10kB 19.0MB/s eta 0:00:01\r\u001b[K     |█████▏                          | 20kB 2.2MB/s eta 0:00:01\r\u001b[K     |███████▉                        | 30kB 2.9MB/s eta 0:00:01\r\u001b[K     |██████████▍                     | 40kB 3.1MB/s eta 0:00:01\r\u001b[K     |█████████████                   | 51kB 2.5MB/s eta 0:00:01\r\u001b[K     |███████████████▋                | 61kB 2.8MB/s eta 0:00:01\r\u001b[K     |██████████████████▏             | 71kB 3.1MB/s eta 0:00:01\r\u001b[K     |████████████████████▉           | 81kB 3.3MB/s eta 0:00:01\r\u001b[K     |███████████████████████▍        | 92kB 3.6MB/s eta 0:00:01\r\u001b[K     |██████████████████████████      | 102kB 3.5MB/s eta 0:00:01\r\u001b[K     |████████████████████████████▋   | 112kB 3.5MB/s eta 0:00:01\r\u001b[K     |███████████████████████████████▏| 122kB 3.5MB/s eta 0:00:01\r\u001b[K     |████████████████████████████████| 133kB 3.5MB/s \n",
            "\u001b[?25h"
          ],
          "name": "stdout"
        }
      ]
    },
    {
      "cell_type": "code",
      "metadata": {
        "id": "h9mJUhJv_bCl",
        "colab_type": "code",
        "colab": {}
      },
      "source": [
        "\n",
        "import pandas as pd\n",
        "#import numpy as npimport ktrain\n",
        "from ktrain import text\n",
        "from sklearn.model_selection import train_test_split\n",
        "import jupyter\n",
        "import pandas as pd\n",
        "import gensim\n",
        "import sklearn\n",
        "import numpy\n",
        "import spacy\n",
        "import pyLDAvis\n",
        "import vaderSentiment\n",
        "import matplotlib\n",
        "import torch\n",
        "import transformers\n",
        "import tqdm"
      ],
      "execution_count": 0,
      "outputs": []
    },
    {
      "cell_type": "code",
      "metadata": {
        "id": "qwIkhAT5CsU5",
        "colab_type": "code",
        "colab": {}
      },
      "source": [
        ""
      ],
      "execution_count": 0,
      "outputs": []
    },
    {
      "cell_type": "code",
      "metadata": {
        "id": "F_RPHICWCsR8",
        "colab_type": "code",
        "colab": {}
      },
      "source": [
        ""
      ],
      "execution_count": 0,
      "outputs": []
    },
    {
      "cell_type": "code",
      "metadata": {
        "id": "ix_XhRSECsMT",
        "colab_type": "code",
        "colab": {}
      },
      "source": [
        ""
      ],
      "execution_count": 0,
      "outputs": []
    },
    {
      "cell_type": "code",
      "metadata": {
        "id": "_rkE41oz-7od",
        "colab_type": "code",
        "colab": {}
      },
      "source": [
        "%%bash "
      ],
      "execution_count": 0,
      "outputs": []
    }
  ]
}