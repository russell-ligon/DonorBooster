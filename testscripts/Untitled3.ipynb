{
 "cells": [
  {
   "cell_type": "code",
   "execution_count": 28,
   "metadata": {},
   "outputs": [],
   "source": [
    "import datetime"
   ]
  },
  {
   "cell_type": "code",
   "execution_count": 9,
   "metadata": {},
   "outputs": [],
   "source": [
    "date_for_comparison='3/3/2019'"
   ]
  },
  {
   "cell_type": "code",
   "execution_count": null,
   "metadata": {},
   "outputs": [],
   "source": [
    "def churn_calc(date_for_comparison):\n",
    "   \n",
    "    month=\"{0:02}\".format(int(date_for_comparison.split('/')[0]))\n",
    "    day=\"{0:02}\".format(int(date_for_comparison.split('/')[1]))\n",
    "    year=\"{0:02}\".format(int(date_for_comparison.split('/')[2]))\n",
    "\n",
    "    refdat=month+'/'+day+'/'+year\n",
    "   \n",
    "    formatuse = '%m/%d/%Y' # The format: see down this page:https://docs.python.org/3/library/datetime.html\n",
    "    \n",
    "    compare_to = '01/01/2017'\n",
    " \n",
    "    usedate = datetime.datetime.strptime(refdat,formatuse) \n",
    "    comparedate=datetime.datetime.strptime(compare_to,formatuse) \n",
    "    \n",
    "    if usedate>comparedate:\n",
    "        value = 1\n",
    "    else:\n",
    "        value = 0\n",
    "        \n",
    "    returne(value)\n",
    "        "
   ]
  },
  {
   "cell_type": "code",
   "execution_count": null,
   "metadata": {},
   "outputs": [],
   "source": [
    "df['churn'] = df.apply(lambda row: churn_calc(row['referencedate']),axis=1)\n"
   ]
  }
 ],
 "metadata": {
  "kernelspec": {
   "display_name": "Python 3",
   "language": "python",
   "name": "python3"
  },
  "language_info": {
   "codemirror_mode": {
    "name": "ipython",
    "version": 3
   },
   "file_extension": ".py",
   "mimetype": "text/x-python",
   "name": "python",
   "nbconvert_exporter": "python",
   "pygments_lexer": "ipython3",
   "version": "3.8.3"
  }
 },
 "nbformat": 4,
 "nbformat_minor": 4
}
