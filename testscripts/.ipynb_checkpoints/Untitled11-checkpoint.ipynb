{
 "cells": [
  {
   "cell_type": "code",
   "execution_count": 1,
   "metadata": {},
   "outputs": [],
   "source": [
    "#Call my other functions\n",
    "import DonorsChooseFunx\n",
    "\n",
    "import pandas as pd \n",
    "import datetime\n",
    "from datetime import date\n",
    "\n",
    "import matplotlib.pyplot as plt\n",
    "import seaborn as sns\n",
    "%matplotlib inline"
   ]
  },
  {
   "cell_type": "code",
   "execution_count": 2,
   "metadata": {},
   "outputs": [],
   "source": [
    "today = date.today()\n",
    "day_of_year = today.timetuple().tm_yday #get day of year\n",
    "\n",
    "list_o_days=[]\n",
    "list_o_day_coords=[]\n",
    "j=0\n",
    "\n",
    "if (day_of_year+90) <= 364:\n",
    "    for d in range(day_of_year,day_of_year+91):\n",
    "        list_o_days.append(d)\n",
    "        list_o_day_coords.append(DonorsChooseFunx.getxy(d))\n",
    "        \n",
    "else:\n",
    "    for d in range(day_of_year,day_of_year+91):\n",
    "        if d<=364:\n",
    "            list_o_days.append(d)\n",
    "            list_o_day_coords.append(DonorsChooseFunx.getxy(d))\n",
    "        else:\n",
    "            list_o_days.append(j)\n",
    "            list_o_day_coords.append(DonorsChooseFunx.getxy(j))\n",
    "            j += 1\n",
    "        "
   ]
  },
  {
   "cell_type": "code",
   "execution_count": 16,
   "metadata": {},
   "outputs": [
    {
     "data": {
      "text/plain": [
       "int"
      ]
     },
     "execution_count": 16,
     "metadata": {},
     "output_type": "execute_result"
    }
   ],
   "source": [
    "type(day_of_year)"
   ]
  },
  {
   "cell_type": "code",
   "execution_count": 7,
   "metadata": {},
   "outputs": [],
   "source": [
    "d = datetime.datetime.strptime('{} {}'.format(day_of_year, today.year),'%j %Y')"
   ]
  },
  {
   "cell_type": "code",
   "execution_count": 8,
   "metadata": {},
   "outputs": [
    {
     "data": {
      "text/plain": [
       "datetime.datetime(2020, 6, 18, 0, 0)"
      ]
     },
     "execution_count": 8,
     "metadata": {},
     "output_type": "execute_result"
    }
   ],
   "source": [
    "d"
   ]
  },
  {
   "cell_type": "code",
   "execution_count": 9,
   "metadata": {},
   "outputs": [],
   "source": [
    "dateDF = pd.DataFrame(list_o_day_coords,columns=['circlx','circly'])"
   ]
  },
  {
   "cell_type": "code",
   "execution_count": 18,
   "metadata": {},
   "outputs": [
    {
     "data": {
      "text/plain": [
       "circlx       float64\n",
       "circly       float64\n",
       "dayOFyear      int64\n",
       "dtype: object"
      ]
     },
     "execution_count": 18,
     "metadata": {},
     "output_type": "execute_result"
    }
   ],
   "source": [
    "dateDF['dayOFyear']=list_o_days\n",
    "dateDF.astype({'dayOFyear':'int'}).dtypes"
   ]
  },
  {
   "cell_type": "code",
   "execution_count": 19,
   "metadata": {},
   "outputs": [
    {
     "data": {
      "text/plain": [
       "datetime.datetime(2020, 6, 18, 0, 0)"
      ]
     },
     "execution_count": 19,
     "metadata": {},
     "output_type": "execute_result"
    }
   ],
   "source": [
    "datetime.datetime.strptime('{} {}'.format(dateDF.loc[0,'dayOFyear'], today.year),'%j %Y')"
   ]
  },
  {
   "cell_type": "code",
   "execution_count": 21,
   "metadata": {},
   "outputs": [],
   "source": [
    "dateDF['calendardate']=dateDF.apply(lambda row: (datetime.datetime.strptime('{} {}'.format(int(row['dayOFyear']), today.year),'%j %Y')),axis=1)"
   ]
  },
  {
   "cell_type": "code",
   "execution_count": 22,
   "metadata": {},
   "outputs": [
    {
     "data": {
      "text/html": [
       "<div>\n",
       "<style scoped>\n",
       "    .dataframe tbody tr th:only-of-type {\n",
       "        vertical-align: middle;\n",
       "    }\n",
       "\n",
       "    .dataframe tbody tr th {\n",
       "        vertical-align: top;\n",
       "    }\n",
       "\n",
       "    .dataframe thead th {\n",
       "        text-align: right;\n",
       "    }\n",
       "</style>\n",
       "<table border=\"1\" class=\"dataframe\">\n",
       "  <thead>\n",
       "    <tr style=\"text-align: right;\">\n",
       "      <th></th>\n",
       "      <th>circlx</th>\n",
       "      <th>circly</th>\n",
       "      <th>dayOFyear</th>\n",
       "      <th>calendardate</th>\n",
       "    </tr>\n",
       "  </thead>\n",
       "  <tbody>\n",
       "    <tr>\n",
       "      <th>0</th>\n",
       "      <td>0.217390</td>\n",
       "      <td>0.976085</td>\n",
       "      <td>170</td>\n",
       "      <td>2020-06-18</td>\n",
       "    </tr>\n",
       "    <tr>\n",
       "      <th>1</th>\n",
       "      <td>0.200582</td>\n",
       "      <td>0.979677</td>\n",
       "      <td>171</td>\n",
       "      <td>2020-06-19</td>\n",
       "    </tr>\n",
       "    <tr>\n",
       "      <th>2</th>\n",
       "      <td>0.183715</td>\n",
       "      <td>0.982980</td>\n",
       "      <td>172</td>\n",
       "      <td>2020-06-20</td>\n",
       "    </tr>\n",
       "    <tr>\n",
       "      <th>3</th>\n",
       "      <td>0.166794</td>\n",
       "      <td>0.985992</td>\n",
       "      <td>173</td>\n",
       "      <td>2020-06-21</td>\n",
       "    </tr>\n",
       "    <tr>\n",
       "      <th>4</th>\n",
       "      <td>0.149824</td>\n",
       "      <td>0.988713</td>\n",
       "      <td>174</td>\n",
       "      <td>2020-06-22</td>\n",
       "    </tr>\n",
       "  </tbody>\n",
       "</table>\n",
       "</div>"
      ],
      "text/plain": [
       "     circlx    circly  dayOFyear calendardate\n",
       "0  0.217390  0.976085        170   2020-06-18\n",
       "1  0.200582  0.979677        171   2020-06-19\n",
       "2  0.183715  0.982980        172   2020-06-20\n",
       "3  0.166794  0.985992        173   2020-06-21\n",
       "4  0.149824  0.988713        174   2020-06-22"
      ]
     },
     "execution_count": 22,
     "metadata": {},
     "output_type": "execute_result"
    }
   ],
   "source": []
  },
  {
   "cell_type": "code",
   "execution_count": 24,
   "metadata": {},
   "outputs": [
    {
     "data": {
      "text/plain": [
       "0.9760848670081144"
      ]
     },
     "execution_count": 24,
     "metadata": {},
     "output_type": "execute_result"
    }
   ],
   "source": [
    "dateDF.iloc[0,1]"
   ]
  },
  {
   "cell_type": "code",
   "execution_count": null,
   "metadata": {},
   "outputs": [],
   "source": [
    "from colour import Color\n",
    "red = Color(\"red\")\n",
    "colors = list(red.range_to(Color(\"green\"),365))\n"
   ]
  },
  {
   "cell_type": "code",
   "execution_count": null,
   "metadata": {},
   "outputs": [],
   "source": [
    "m=1"
   ]
  },
  {
   "cell_type": "code",
   "execution_count": null,
   "metadata": {},
   "outputs": [],
   "source": [
    "x,y=DonorsChooseFunx.getxy(m)"
   ]
  },
  {
   "cell_type": "code",
   "execution_count": null,
   "metadata": {},
   "outputs": [],
   "source": [
    "str(colors[j])\n"
   ]
  },
  {
   "cell_type": "code",
   "execution_count": null,
   "metadata": {},
   "outputs": [],
   "source": [
    "plt.rcParams[\"figure.figsize\"] = (12,12)\n",
    "j=0\n",
    "for m in range(0,364):\n",
    "    x,y=DonorsChooseFunx.getxy(m)\n",
    "    plt.scatter(x,y, color=str(colors[j]),alpha=0.5);\n",
    "    j+=1"
   ]
  },
  {
   "cell_type": "code",
   "execution_count": null,
   "metadata": {},
   "outputs": [],
   "source": [
    "daytuple=DonorsChooseFunx.getxy(day_of_year)\n",
    "daytuple"
   ]
  },
  {
   "cell_type": "code",
   "execution_count": null,
   "metadata": {},
   "outputs": [],
   "source": [
    "cx, cy = daytuple"
   ]
  },
  {
   "cell_type": "code",
   "execution_count": null,
   "metadata": {},
   "outputs": [],
   "source": [
    "cx"
   ]
  },
  {
   "cell_type": "code",
   "execution_count": 25,
   "metadata": {},
   "outputs": [],
   "source": [
    "state_you_live = \"AK\""
   ]
  },
  {
   "cell_type": "code",
   "execution_count": 28,
   "metadata": {},
   "outputs": [],
   "source": [
    "scst=['school_state_AK',\n",
    " 'school_state_AL',\n",
    " 'school_state_AR',\n",
    " 'school_state_AZ',\n",
    " 'school_state_CA',\n",
    " 'school_state_CO',\n",
    " 'school_state_CT',\n",
    " 'school_state_DC',\n",
    " 'school_state_DE',\n",
    " 'school_state_FL',\n",
    " 'school_state_GA',\n",
    " 'school_state_HI',\n",
    " 'school_state_IA',\n",
    " 'school_state_ID',\n",
    " 'school_state_IL',\n",
    " 'school_state_IN',\n",
    " 'school_state_KS',\n",
    " 'school_state_KY',\n",
    " 'school_state_LA',\n",
    " 'school_state_MA',\n",
    " 'school_state_MD',\n",
    " 'school_state_ME',\n",
    " 'school_state_MI',\n",
    " 'school_state_MN',\n",
    " 'school_state_MO',\n",
    " 'school_state_MS',\n",
    " 'school_state_MT',\n",
    " 'school_state_NC',\n",
    " 'school_state_ND',\n",
    " 'school_state_NE',\n",
    " 'school_state_NH',\n",
    " 'school_state_NJ',\n",
    " 'school_state_NM',\n",
    " 'school_state_NV',\n",
    " 'school_state_NY',\n",
    " 'school_state_OH',\n",
    " 'school_state_OK',\n",
    " 'school_state_OR',\n",
    " 'school_state_PA',\n",
    " 'school_state_RI',\n",
    " 'school_state_SC',\n",
    " 'school_state_SD',\n",
    " 'school_state_TN',\n",
    " 'school_state_TX',\n",
    " 'school_state_UT',\n",
    " 'school_state_VA',\n",
    " 'school_state_VT',\n",
    " 'school_state_WA',\n",
    " 'school_state_WI',\n",
    " 'school_state_WV',\n",
    " 'school_state_WY']"
   ]
  },
  {
   "cell_type": "code",
   "execution_count": 27,
   "metadata": {},
   "outputs": [],
   "source": [
    "        school_state_AK = 0\n",
    "        school_state_AL = 0\n",
    "        school_state_AR = 0\n",
    "        school_state_AZ = 0\n",
    "        school_state_CA = 0\n",
    "        school_state_CO = 0\n",
    "        school_state_CT = 0\n",
    "        school_state_DC = 0\n",
    "        school_state_DE = 0\n",
    "        school_state_FL = 0\n",
    "        school_state_GA = 0\n",
    "        school_state_HI = 0\n",
    "        school_state_IA = 0\n",
    "        school_state_ID = 0\n",
    "        school_state_IL = 0\n",
    "        school_state_IN = 0\n",
    "        school_state_KS = 0\n",
    "        school_state_KY = 0\n",
    "        school_state_LA = 0\n",
    "        school_state_MA = 0\n",
    "        school_state_MD = 0\n",
    "        school_state_ME = 0\n",
    "        school_state_MI = 0\n",
    "        school_state_MN = 0\n",
    "        school_state_MO = 0\n",
    "        school_state_MS = 0\n",
    "        school_state_MT = 0\n",
    "        school_state_NC = 0\n",
    "        school_state_ND = 0\n",
    "        school_state_NE = 0\n",
    "        school_state_NH = 0\n",
    "        school_state_NJ = 0\n",
    "        school_state_NM = 0\n",
    "        school_state_NV = 0\n",
    "        school_state_NY = 0\n",
    "        school_state_OH = 0\n",
    "        school_state_OK = 0\n",
    "        school_state_OR = 0\n",
    "        school_state_PA = 0\n",
    "        school_state_RI = 0\n",
    "        school_state_SC = 0\n",
    "        school_state_SD = 0\n",
    "        school_state_TN = 0\n",
    "        school_state_TX = 0\n",
    "        school_state_UT = 0\n",
    "        school_state_VA = 0\n",
    "        school_state_VT = 0\n",
    "        school_state_WA = 0\n",
    "        school_state_WI = 0\n",
    "        school_state_WV = 0\n",
    "        school_state_WY = 0"
   ]
  },
  {
   "cell_type": "code",
   "execution_count": null,
   "metadata": {},
   "outputs": [],
   "source": [
    "for j in scst:\n",
    "    if state_you_live in j:\n",
    "        "
   ]
  },
  {
   "cell_type": "code",
   "execution_count": 31,
   "metadata": {},
   "outputs": [],
   "source": [
    "import numpy as np"
   ]
  },
  {
   "cell_type": "code",
   "execution_count": 36,
   "metadata": {},
   "outputs": [],
   "source": [
    "for st in scst:\n",
    "    if state_you_live in st:\n",
    "        st = 1\n",
    "    else:\n",
    "        st = 0"
   ]
  },
  {
   "cell_type": "code",
   "execution_count": 45,
   "metadata": {},
   "outputs": [],
   "source": [
    "school_state = dict()\n",
    "for s in scst:\n",
    "    if state_you_live in s:\n",
    "        school_state[s] = 1\n",
    "    else:\n",
    "        school_state[s] = 0\n",
    "\n"
   ]
  },
  {
   "cell_type": "code",
   "execution_count": 46,
   "metadata": {},
   "outputs": [
    {
     "data": {
      "text/plain": [
       "{'school_state_AK': 1,\n",
       " 'school_state_AL': 0,\n",
       " 'school_state_AR': 0,\n",
       " 'school_state_AZ': 0,\n",
       " 'school_state_CA': 0,\n",
       " 'school_state_CO': 0,\n",
       " 'school_state_CT': 0,\n",
       " 'school_state_DC': 0,\n",
       " 'school_state_DE': 0,\n",
       " 'school_state_FL': 0,\n",
       " 'school_state_GA': 0,\n",
       " 'school_state_HI': 0,\n",
       " 'school_state_IA': 0,\n",
       " 'school_state_ID': 0,\n",
       " 'school_state_IL': 0,\n",
       " 'school_state_IN': 0,\n",
       " 'school_state_KS': 0,\n",
       " 'school_state_KY': 0,\n",
       " 'school_state_LA': 0,\n",
       " 'school_state_MA': 0,\n",
       " 'school_state_MD': 0,\n",
       " 'school_state_ME': 0,\n",
       " 'school_state_MI': 0,\n",
       " 'school_state_MN': 0,\n",
       " 'school_state_MO': 0,\n",
       " 'school_state_MS': 0,\n",
       " 'school_state_MT': 0,\n",
       " 'school_state_NC': 0,\n",
       " 'school_state_ND': 0,\n",
       " 'school_state_NE': 0,\n",
       " 'school_state_NH': 0,\n",
       " 'school_state_NJ': 0,\n",
       " 'school_state_NM': 0,\n",
       " 'school_state_NV': 0,\n",
       " 'school_state_NY': 0,\n",
       " 'school_state_OH': 0,\n",
       " 'school_state_OK': 0,\n",
       " 'school_state_OR': 0,\n",
       " 'school_state_PA': 0,\n",
       " 'school_state_RI': 0,\n",
       " 'school_state_SC': 0,\n",
       " 'school_state_SD': 0,\n",
       " 'school_state_TN': 0,\n",
       " 'school_state_TX': 0,\n",
       " 'school_state_UT': 0,\n",
       " 'school_state_VA': 0,\n",
       " 'school_state_VT': 0,\n",
       " 'school_state_WA': 0,\n",
       " 'school_state_WI': 0,\n",
       " 'school_state_WV': 0,\n",
       " 'school_state_WY': 0}"
      ]
     },
     "execution_count": 46,
     "metadata": {},
     "output_type": "execute_result"
    }
   ],
   "source": [
    "school_state\n",
    "\n"
   ]
  },
  {
   "cell_type": "code",
   "execution_count": 41,
   "metadata": {},
   "outputs": [],
   "source": [
    "valuearray=np.array([[students_reached,school_state,total_price_excluding_optional_support]])"
   ]
  },
  {
   "cell_type": "code",
   "execution_count": 42,
   "metadata": {},
   "outputs": [
    {
     "data": {
      "text/plain": [
       "array([[6,\n",
       "        {'school_state_AK': 0, 'school_state_AL': 0, 'school_state_AR': 0, 'school_state_AZ': 0, 'school_state_CA': 0, 'school_state_CO': 0, 'school_state_CT': 0, 'school_state_DC': 0, 'school_state_DE': 0, 'school_state_FL': 0, 'school_state_GA': 0, 'school_state_HI': 0, 'school_state_IA': 0, 'school_state_ID': 0, 'school_state_IL': 0, 'school_state_IN': 0, 'school_state_KS': 0, 'school_state_KY': 0, 'school_state_LA': 0, 'school_state_MA': 0, 'school_state_MD': 0, 'school_state_ME': 0, 'school_state_MI': 0, 'school_state_MN': 0, 'school_state_MO': 0, 'school_state_MS': 0, 'school_state_MT': 0, 'school_state_NC': 0, 'school_state_ND': 0, 'school_state_NE': 0, 'school_state_NH': 0, 'school_state_NJ': 0, 'school_state_NM': 0, 'school_state_NV': 0, 'school_state_NY': 0, 'school_state_OH': 0, 'school_state_OK': 0, 'school_state_OR': 0, 'school_state_PA': 0, 'school_state_RI': 0, 'school_state_SC': 0, 'school_state_SD': 0, 'school_state_TN': 0, 'school_state_TX': 0, 'school_state_UT': 0, 'school_state_VA': 0, 'school_state_VT': 0, 'school_state_WA': 0, 'school_state_WI': 0, 'school_state_WV': 0, 'school_state_WY': 0, 'AK': 1},\n",
       "        252.5]], dtype=object)"
      ]
     },
     "execution_count": 42,
     "metadata": {},
     "output_type": "execute_result"
    }
   ],
   "source": [
    "valuearray"
   ]
  },
  {
   "cell_type": "code",
   "execution_count": 49,
   "metadata": {},
   "outputs": [],
   "source": [
    "startingvals = [6,7,8]"
   ]
  },
  {
   "cell_type": "code",
   "execution_count": 50,
   "metadata": {},
   "outputs": [],
   "source": [
    "endingvals = [9,10,11]"
   ]
  },
  {
   "cell_type": "code",
   "execution_count": 51,
   "metadata": {},
   "outputs": [],
   "source": [
    "for value in school_state:\n",
    "    startingvals.append(value)\n",
    "    \n",
    "startingvals.append(endingvals)"
   ]
  },
  {
   "cell_type": "code",
   "execution_count": null,
   "metadata": {},
   "outputs": [],
   "source": []
  }
 ],
 "metadata": {
  "kernelspec": {
   "display_name": "Python 3",
   "language": "python",
   "name": "python3"
  },
  "language_info": {
   "codemirror_mode": {
    "name": "ipython",
    "version": 3
   },
   "file_extension": ".py",
   "mimetype": "text/x-python",
   "name": "python",
   "nbconvert_exporter": "python",
   "pygments_lexer": "ipython3",
   "version": "3.8.3"
  }
 },
 "nbformat": 4,
 "nbformat_minor": 4
}
