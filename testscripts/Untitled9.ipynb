{
 "cells": [
  {
   "cell_type": "code",
   "execution_count": 1,
   "metadata": {},
   "outputs": [
    {
     "name": "stdout",
     "output_type": "stream",
     "text": [
      "Requirement already satisfied: pillow in /home/russell/anaconda3/envs/insight/lib/python3.8/site-packages (7.1.2)\r\n"
     ]
    }
   ],
   "source": [
    "!pip install pillow"
   ]
  },
  {
   "cell_type": "code",
   "execution_count": null,
   "metadata": {},
   "outputs": [],
   "source": [
    "import math \n"
   ]
  },
  {
   "cell_type": "code",
   "execution_count": null,
   "metadata": {},
   "outputs": [],
   "source": [
    "def getxy(day):\n",
    "    x = math.sin((180 - day * 0.9849521203830369)/180 * 3.141)\n",
    "    y = math.cos((180 - day * 0.9849521203830369)/180 * 3.141)\n",
    "    return x, y\n",
    "\n",
    "\n",
    "def from_center(ratio):\n",
    "    return lambda z: sz + sz * ratio * z\n",
    "\n",
    "place34 = from_center(3/4)\n",
    "place78 = from_center(7/8)\n",
    "\n",
    "rad_to_deg = lambda x: 180 * x / 3.14159\n",
    " \n",
    "\n",
    "\n",
    "    \n",
    "    \n",
    "def  draw_circle(*points):\n",
    "    def draw_time_point(x1, y1, **kwargs):\n",
    "    \n",
    "        draw.ellipse((place34(x1) - 5, \n",
    "                      place34(y1) - 5,\n",
    "                      place34(x1) + 5,\n",
    "                      place34(y1) + 5),\n",
    "                     **kwargs)\n",
    "        \n",
    "        \n",
    "    im = Image.new('RGB',(2 * sz, 2*sz))\n",
    "    draw = ImageDraw.Draw(im)\n",
    "    draw.rectangle((0,0) + im.size, fill=(256, 256, 256))\n",
    "    draw.ellipse((sz / 4,\n",
    "                  sz / 4,\n",
    "                  sz * 7 / 4,\n",
    "                  sz * 7 / 4), outline = 0) \n",
    "    \n",
    "    for i in range(24):\n",
    "        x,y = getxy(i)\n",
    "        draw.line((sz,\n",
    "                   sz, \n",
    "                   place34(x), \n",
    "                   place34(y)),            \n",
    "                  fill = 0) \n",
    "        \n",
    "        draw.text((place78(x) - 5 - 2*y,  # slight rotation to align numbers \n",
    "                   place78(y) - 5 + 2*x ), \n",
    "                  str(i), \n",
    "                  fill = 0)\n",
    "        \n",
    " \n",
    "    if len(points):\n",
    "        xx, yy = list(zip(*[ getxy(p) for p in points]))\n",
    "        for x1, y1 in zip(xx, yy):\n",
    "            draw_time_point(x1, y1, outline = (200,5,5), fill=(250,9,9))\n",
    "            \n",
    "        xm = sum(xx)/len(xx)\n",
    "        ym = sum(yy)/len(yy)\n",
    "        draw_time_point(xm, ym, outline = (0,215,5), fill=(100,9,139))\n",
    "        \n",
    "        r = math.sqrt(xm**2 + ym**2)\n",
    "        avg = math.atan2(ym, xm)\n",
    "        arc = math.acos(r)\n",
    "        print(r,avg,arc)\n",
    "        \n",
    "        draw.chord(xy=(sz/4,\n",
    "                       sz/4,\n",
    "                       sz * 7/4,\n",
    "                       sz * 7/4),\n",
    "                   start=rad_to_deg(avg - arc),\n",
    "                   end=rad_to_deg(avg + arc),\n",
    "                   outline=(0,200,0))\n",
    "        \n",
    "    return im\n",
    "draw_circle(10,11,12)"
   ]
  },
  {
   "cell_type": "code",
   "execution_count": 2,
   "metadata": {},
   "outputs": [
    {
     "data": {
      "text/plain": [
       "360"
      ]
     },
     "execution_count": 2,
     "metadata": {},
     "output_type": "execute_result"
    }
   ],
   "source": [
    "24*15\n"
   ]
  },
  {
   "cell_type": "code",
   "execution_count": 3,
   "metadata": {},
   "outputs": [
    {
     "data": {
      "text/plain": [
       "15.0"
      ]
     },
     "execution_count": 3,
     "metadata": {},
     "output_type": "execute_result"
    }
   ],
   "source": [
    "360/24"
   ]
  },
  {
   "cell_type": "code",
   "execution_count": 5,
   "metadata": {},
   "outputs": [
    {
     "data": {
      "text/plain": [
       "0.9849521203830369"
      ]
     },
     "execution_count": 5,
     "metadata": {},
     "output_type": "execute_result"
    }
   ],
   "source": [
    "360/365.5"
   ]
  },
  {
   "cell_type": "code",
   "execution_count": 8,
   "metadata": {},
   "outputs": [],
   "source": [
    "import math \n",
    "\n",
    "def getxy(day):\n",
    "    x = math.sin((180 - day * 0.9849521203830369)/180 * 3.141)\n",
    "    y = math.cos((180 - day * 0.9849521203830369)/180 * 3.141)\n",
    "    return x, y"
   ]
  },
  {
   "cell_type": "code",
   "execution_count": 11,
   "metadata": {},
   "outputs": [
    {
     "data": {
      "text/plain": [
       "(0.99972771931796, -0.0233342500910169)"
      ]
     },
     "execution_count": 11,
     "metadata": {},
     "output_type": "execute_result"
    }
   ],
   "source": [
    "getxy(90)"
   ]
  },
  {
   "cell_type": "code",
   "execution_count": 18,
   "metadata": {},
   "outputs": [
    {
     "name": "stderr",
     "output_type": "stream",
     "text": [
      "<ipython-input-18-0bf7b60b3e9b>:6: MatplotlibDeprecationWarning: Adding an axes using the same arguments as a previous axes currently reuses the earlier instance.  In a future version, a new instance will always be created and returned.  Meanwhile, this warning can be suppressed, and the future behavior ensured, by passing a unique label to each axes instance.\n",
      "  axScatter = plt.subplot(111)\n"
     ]
    },
    {
     "data": {
      "image/png": "[encoded data removed]",
      "text/plain": [
       "<Figure size 396x396 with 1 Axes>"
      ]
     },
     "metadata": {
      "needs_background": "light"
     },
     "output_type": "display_data"
    }
   ],
   "source": [
    "import numpy as np\n",
    "import matplotlib.pyplot as plt\n",
    "\n",
    "for j in range(360):\n",
    "    fig = plt.figure(1, figsize=(5.5,5.5))\n",
    "    axScatter = plt.subplot(111)\n",
    "    xy=getxy(j)\n",
    "    plt.scatter(xy[0],xy[1])\n",
    "    # set axes range\n",
    "    plt.xlim(-2, 2)\n",
    "    plt.ylim(-2, 2)\n",
    "plt.show()"
   ]
  },
  {
   "cell_type": "code",
   "execution_count": null,
   "metadata": {},
   "outputs": [],
   "source": []
  }
 ],
 "metadata": {
  "kernelspec": {
   "display_name": "Python 3",
   "language": "python",
   "name": "python3"
  },
  "language_info": {
   "codemirror_mode": {
    "name": "ipython",
    "version": 3
   },
   "file_extension": ".py",
   "mimetype": "text/x-python",
   "name": "python",
   "nbconvert_exporter": "python",
   "pygments_lexer": "ipython3",
   "version": "3.8.3"
  }
 },
 "nbformat": 4,
 "nbformat_minor": 4
}
